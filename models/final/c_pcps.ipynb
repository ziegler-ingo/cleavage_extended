{
 "cells": [
  {
   "cell_type": "code",
   "execution_count": 1,
   "id": "d957b35b-7a53-4fc6-924c-f2d50e2f1864",
   "metadata": {},
   "outputs": [],
   "source": [
    "import pandas as pd\n",
    "\n",
    "from sklearn.metrics import roc_auc_score, accuracy_score"
   ]
  },
  {
   "cell_type": "code",
   "execution_count": 2,
   "id": "62bba638-21b5-40d7-8190-0f964354fe46",
   "metadata": {},
   "outputs": [],
   "source": [
    "# results are split in 29 different files due to PCPS prediction server capacity\n",
    "files = [\n",
    "    '00', '01', '02', '03', '04', '05',\n",
    "    '06', '07', '08', '09', '10', '11',\n",
    "    '12', '13', '14', '15', '16', '17',\n",
    "    '18', '19', '20', '21', '22', '23',\n",
    "    '24', '25', '26', '27', '28'\n",
    "]\n",
    "\n",
    "base_path = '../../params/c_term/pcps/results'\n",
    "\n",
    "dfs = []\n",
    "for file in files:\n",
    "    temp_df = pd.read_csv(base_path + file + '.txt', header=None)\n",
    "    dfs.append(temp_df)\n",
    "    \n",
    "df = pd.concat(dfs)"
   ]
  },
  {
   "cell_type": "code",
   "execution_count": 3,
   "id": "4a4b0285-f052-4e20-8132-b9b1db85dbcf",
   "metadata": {},
   "outputs": [],
   "source": [
    "# filter and preprocess the files\n",
    "df.rename({0: \"aa\", 1: \"cleavage\", 2: \"score\"}, axis=1, inplace=True)\n",
    "df = df.loc[df[\"aa\"] != \"Aminoacid\"]\n",
    "df = df.applymap(lambda x: x.strip().replace(\" \", \"\"))\n",
    "df.loc[df[\"aa\"].str.startswith(\">\"), \"aa\"] = df.loc[\n",
    "    df[\"aa\"].str.startswith(\">\"), \"aa\"\n",
    "].str.replace(\">\", \"\")\n",
    "df.reset_index(drop=True, inplace=True)\n",
    "df[\"idx\"] = df[\"aa\"].apply(lambda x: int(x) if x.isdigit() else None)\n",
    "df[\"idx\"].ffill(inplace=True)\n",
    "df.index = df[\"idx\"].astype(int)\n",
    "df = df.loc[df[\"cleavage\"] != \"10BASES\", [\"aa\", \"cleavage\", \"score\"]]\n",
    "df[\"cleavage\"].replace({\"YES\": 1, \"NO\": 0}, inplace=True)\n",
    "df.sort_index(inplace=True)"
   ]
  },
  {
   "cell_type": "code",
   "execution_count": 4,
   "id": "0b445143-d10a-4b83-b21a-068ac0693e3e",
   "metadata": {},
   "outputs": [
    {
     "data": {
      "text/html": [
       "<div>\n",
       "<style scoped>\n",
       "    .dataframe tbody tr th:only-of-type {\n",
       "        vertical-align: middle;\n",
       "    }\n",
       "\n",
       "    .dataframe tbody tr th {\n",
       "        vertical-align: top;\n",
       "    }\n",
       "\n",
       "    .dataframe thead th {\n",
       "        text-align: right;\n",
       "    }\n",
       "</style>\n",
       "<table border=\"1\" class=\"dataframe\">\n",
       "  <thead>\n",
       "    <tr style=\"text-align: right;\">\n",
       "      <th></th>\n",
       "      <th>cleavage</th>\n",
       "      <th>score</th>\n",
       "    </tr>\n",
       "    <tr>\n",
       "      <th>idx</th>\n",
       "      <th></th>\n",
       "      <th></th>\n",
       "    </tr>\n",
       "  </thead>\n",
       "  <tbody>\n",
       "    <tr>\n",
       "      <th>0</th>\n",
       "      <td>0</td>\n",
       "      <td>0.2038</td>\n",
       "    </tr>\n",
       "    <tr>\n",
       "      <th>1</th>\n",
       "      <td>1</td>\n",
       "      <td>0.6535</td>\n",
       "    </tr>\n",
       "    <tr>\n",
       "      <th>2</th>\n",
       "      <td>0</td>\n",
       "      <td>0.0120</td>\n",
       "    </tr>\n",
       "    <tr>\n",
       "      <th>3</th>\n",
       "      <td>1</td>\n",
       "      <td>0.7213</td>\n",
       "    </tr>\n",
       "    <tr>\n",
       "      <th>4</th>\n",
       "      <td>0</td>\n",
       "      <td>0.1655</td>\n",
       "    </tr>\n",
       "  </tbody>\n",
       "</table>\n",
       "</div>"
      ],
      "text/plain": [
       "     cleavage   score\n",
       "idx                  \n",
       "0           0  0.2038\n",
       "1           1  0.6535\n",
       "2           0  0.0120\n",
       "3           1  0.7213\n",
       "4           0  0.1655"
      ]
     },
     "execution_count": 4,
     "metadata": {},
     "output_type": "execute_result"
    }
   ],
   "source": [
    "# cleavage sites are located after the 6th amino acid\n",
    "# --> group by every index, take 5th index of group\n",
    "df_preds = df.groupby(df.index).nth(5)[['cleavage', 'score']]\n",
    "df_preds.head()"
   ]
  },
  {
   "cell_type": "code",
   "execution_count": 5,
   "id": "3571bf28-dfa9-401a-9bf0-c8393848d541",
   "metadata": {},
   "outputs": [],
   "source": [
    "# load test set results\n",
    "c_test = pd.read_csv('../../data/c_test.csv')"
   ]
  },
  {
   "cell_type": "code",
   "execution_count": 6,
   "id": "702c691e-62a4-4d07-b7e0-805be2505b9e",
   "metadata": {},
   "outputs": [
    {
     "data": {
      "text/plain": [
       "0.610475519549137"
      ]
     },
     "execution_count": 6,
     "metadata": {},
     "output_type": "execute_result"
    }
   ],
   "source": [
    "# accuracy\n",
    "accuracy_score(c_test['elution_cleavage'], df_preds['cleavage'])"
   ]
  },
  {
   "cell_type": "code",
   "execution_count": 7,
   "id": "b27c822e-4723-47e9-a114-d9014653519e",
   "metadata": {},
   "outputs": [
    {
     "data": {
      "text/plain": [
       "0.5129134073297384"
      ]
     },
     "execution_count": 7,
     "metadata": {},
     "output_type": "execute_result"
    }
   ],
   "source": [
    "# AUC\n",
    "roc_auc_score(c_test['elution_cleavage'], df_preds['score'])"
   ]
  },
  {
   "cell_type": "code",
   "execution_count": null,
   "id": "0725f369-93f8-4b3b-8eda-e64a30194f10",
   "metadata": {},
   "outputs": [],
   "source": []
  }
 ],
 "metadata": {
  "kernelspec": {
   "display_name": "Python 3 (ipykernel)",
   "language": "python",
   "name": "python3"
  },
  "language_info": {
   "codemirror_mode": {
    "name": "ipython",
    "version": 3
   },
   "file_extension": ".py",
   "mimetype": "text/x-python",
   "name": "python",
   "nbconvert_exporter": "python",
   "pygments_lexer": "ipython3",
   "version": "3.10.4"
  }
 },
 "nbformat": 4,
 "nbformat_minor": 5
}

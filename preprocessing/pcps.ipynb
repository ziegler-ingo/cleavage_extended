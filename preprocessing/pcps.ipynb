{
 "cells": [
  {
   "cell_type": "code",
   "execution_count": 1,
   "id": "2023cd99-713d-4543-b0cc-ca1bf790c80c",
   "metadata": {},
   "outputs": [],
   "source": [
    "import pandas as pd"
   ]
  },
  {
   "cell_type": "code",
   "execution_count": 2,
   "id": "fe080e5a-8ae0-4eee-b0b4-97104aca21d2",
   "metadata": {},
   "outputs": [],
   "source": [
    "c_path = '../data/c_test'\n",
    "n_path = '../data/n_test'\n",
    "\n",
    "df_c = pd.read_csv(c_path + '.csv')\n",
    "df_n = pd.read_csv(n_path + '.csv')"
   ]
  },
  {
   "cell_type": "code",
   "execution_count": 3,
   "id": "e4ddedbb-1529-4173-ba21-1529b12b0da8",
   "metadata": {},
   "outputs": [],
   "source": [
    "old_idx = 0\n",
    "batch_size = 5000\n",
    "\n",
    "for i, idx in enumerate(range(batch_size, len(df_n)+batch_size, batch_size)):\n",
    "    with open(c_path + f\"_pcps{i}.txt\", 'w') as f_c:\n",
    "        for name, seq in zip(df_c[old_idx:idx].index, df_c[old_idx:idx].cleavage_window):\n",
    "            f_c.writelines(f\">{name}\\n\")\n",
    "            f_c.writelines(seq + '\\n')\n",
    "\n",
    "    with open(n_path + f\"_pcps{i}.txt\", 'w') as f_n:\n",
    "        for name, seq in zip(df_n[old_idx:idx].index, df_n[old_idx:idx].cleavage_window):\n",
    "            f_n.writelines(f\">{name}\\n\")\n",
    "            f_n.writelines(seq + '\\n')\n",
    "            \n",
    "    old_idx += batch_size"
   ]
  },
  {
   "cell_type": "code",
   "execution_count": null,
   "id": "ea6bbd2f-5080-4bff-b14e-f7c17b739cce",
   "metadata": {},
   "outputs": [],
   "source": []
  }
 ],
 "metadata": {
  "kernelspec": {
   "display_name": "Python 3 (ipykernel)",
   "language": "python",
   "name": "python3"
  },
  "language_info": {
   "codemirror_mode": {
    "name": "ipython",
    "version": 3
   },
   "file_extension": ".py",
   "mimetype": "text/x-python",
   "name": "python",
   "nbconvert_exporter": "python",
   "pygments_lexer": "ipython3",
   "version": "3.10.4"
  }
 },
 "nbformat": 4,
 "nbformat_minor": 5
}
